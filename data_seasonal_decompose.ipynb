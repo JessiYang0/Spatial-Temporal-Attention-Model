{
 "cells": [
  {
   "cell_type": "code",
   "execution_count": 6,
   "id": "e6910c3a",
   "metadata": {},
   "outputs": [],
   "source": [
    "import numpy as np\n",
    "import pandas as pd\n",
    "from matplotlib import pyplot as plt"
   ]
  },
  {
   "cell_type": "code",
   "execution_count": 3,
   "id": "5228508c",
   "metadata": {},
   "outputs": [
    {
     "name": "stdout",
     "output_type": "stream",
     "text": [
      "Collecting statsmodels\n",
      "  Downloading statsmodels-0.13.2-cp38-cp38-win_amd64.whl (9.1 MB)\n",
      "Collecting packaging>=21.3\n",
      "  Downloading packaging-21.3-py3-none-any.whl (40 kB)\n",
      "Requirement already satisfied: scipy>=1.3 in c:\\programdata\\anaconda3\\envs\\pytorch_gpu\\lib\\site-packages (from statsmodels) (1.7.2)\n",
      "Requirement already satisfied: pandas>=0.25 in c:\\programdata\\anaconda3\\envs\\pytorch_gpu\\lib\\site-packages (from statsmodels) (1.3.4)\n",
      "Collecting patsy>=0.5.2\n",
      "  Downloading patsy-0.5.2-py2.py3-none-any.whl (233 kB)\n",
      "Requirement already satisfied: numpy>=1.17 in c:\\programdata\\anaconda3\\envs\\pytorch_gpu\\lib\\site-packages (from statsmodels) (1.21.4)\n",
      "Requirement already satisfied: pyparsing!=3.0.5,>=2.0.2 in c:\\programdata\\anaconda3\\envs\\pytorch_gpu\\lib\\site-packages (from packaging>=21.3->statsmodels) (3.0.4)\n",
      "Requirement already satisfied: pytz>=2017.3 in c:\\programdata\\anaconda3\\envs\\pytorch_gpu\\lib\\site-packages (from pandas>=0.25->statsmodels) (2021.3)\n",
      "Requirement already satisfied: python-dateutil>=2.7.3 in c:\\programdata\\anaconda3\\envs\\pytorch_gpu\\lib\\site-packages (from pandas>=0.25->statsmodels) (2.8.2)\n",
      "Requirement already satisfied: six in c:\\programdata\\anaconda3\\envs\\pytorch_gpu\\lib\\site-packages (from patsy>=0.5.2->statsmodels) (1.16.0)\n",
      "Installing collected packages: patsy, packaging, statsmodels\n",
      "  Attempting uninstall: packaging\n",
      "    Found existing installation: packaging 21.0\n",
      "    Uninstalling packaging-21.0:\n",
      "      Successfully uninstalled packaging-21.0\n",
      "Successfully installed packaging-21.3 patsy-0.5.2 statsmodels-0.13.2\n"
     ]
    }
   ],
   "source": [
    "from statsmodels.tsa.seasonal import seasonal_decompose\n",
    "!pip install statsmodels"
   ]
  },
  {
   "cell_type": "code",
   "execution_count": 18,
   "id": "0e4fee78",
   "metadata": {},
   "outputs": [],
   "source": []
  },
  {
   "cell_type": "code",
   "execution_count": 25,
   "id": "544d271f",
   "metadata": {},
   "outputs": [],
   "source": [
    "df = pd.read_csv(\"./data/ETT/data_NA.csv\").interpolate()\n",
    "df['date'] = df.apply(\n",
    "        lambda x: f\"{int(x['Year'])}-{int(x['Month'])}-{int(x['Day'])} {int(x['Hour'])}:00:00\", axis=1)\n",
    "df[\"date\"] = pd.to_datetime(df[\"date\"])\n",
    "df = df[['date','Year', 'Month', 'Day', 'Hour', 'Temperature', 'Pressure', 'Humidity', 'Wind_Speed', 'Rainfall', 'Season', 'Weekend', 'Load']]\n",
    "# df.set_index(\"date\")\n",
    "\n"
   ]
  },
  {
   "cell_type": "code",
   "execution_count": 26,
   "id": "3b82767d",
   "metadata": {},
   "outputs": [],
   "source": [
    "sd_list = ['Temperature', 'Pressure', 'Humidity', 'Wind_Speed', 'Rainfall', 'Season']\n",
    "for sd in sd_list:\n",
    "    s = pd.Series(df[sd].values, index=df[\"date\"])\n",
    "    decompose = seasonal_decompose(s, two_sided=False) #period=12 #DatetimeIndex.inferred_freq -> freq_to_period #two_sided=False\n",
    "    df[f\"{sd}_seasonal\"] = decompose.seasonal.values "
   ]
  },
  {
   "cell_type": "code",
   "execution_count": 27,
   "id": "c8d82c66",
   "metadata": {},
   "outputs": [],
   "source": [
    "df.to_csv(\"./data/ETT/data_NA_seasonal.csv\")"
   ]
  },
  {
   "cell_type": "code",
   "execution_count": 4,
   "id": "f8d9cfc9",
   "metadata": {},
   "outputs": [
    {
     "name": "stdout",
     "output_type": "stream",
     "text": [
      "3\n"
     ]
    }
   ],
   "source": [
    "import numpy as np\n",
    "x=np.array(3)\n",
    "print(x)"
   ]
  },
  {
   "cell_type": "code",
   "execution_count": null,
   "id": "7d0038d1",
   "metadata": {},
   "outputs": [],
   "source": []
  }
 ],
 "metadata": {
  "kernelspec": {
   "display_name": "Python 3 (ipykernel)",
   "language": "python",
   "name": "python3"
  },
  "language_info": {
   "codemirror_mode": {
    "name": "ipython",
    "version": 3
   },
   "file_extension": ".py",
   "mimetype": "text/x-python",
   "name": "python",
   "nbconvert_exporter": "python",
   "pygments_lexer": "ipython3",
   "version": "3.8.12"
  }
 },
 "nbformat": 4,
 "nbformat_minor": 5
}
